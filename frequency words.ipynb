{
  "nbformat": 4,
  "nbformat_minor": 0,
  "metadata": {
    "colab": {
      "name": "Untitled14.ipynb",
      "provenance": [],
      "collapsed_sections": [],
      "include_colab_link": true
    },
    "kernelspec": {
      "name": "python3",
      "display_name": "Python 3"
    },
    "language_info": {
      "name": "python"
    }
  },
  "cells": [
    {
      "cell_type": "markdown",
      "metadata": {
        "id": "view-in-github",
        "colab_type": "text"
      },
      "source": [
        "<a href=\"https://colab.research.google.com/github/urhanmustafa/Veri-Analizi/blob/main/frequency%20words.ipynb\" target=\"_parent\"><img src=\"https://colab.research.google.com/assets/colab-badge.svg\" alt=\"Open In Colab\"/></a>"
      ]
    },
    {
      "cell_type": "code",
      "execution_count": 2,
      "metadata": {
        "id": "q4l36v269ib4",
        "colab": {
          "base_uri": "https://localhost:8080/",
          "height": 284
        },
        "outputId": "133ac9a0-2fa3-466f-a6b0-9ab6ac1e6696"
      },
      "outputs": [
        {
          "output_type": "stream",
          "name": "stdout",
          "text": [
            "['of', 'to', 'data', 'shall', 'in', 'be', 'personal', 'board', 'by', 'is']\n"
          ]
        },
        {
          "output_type": "display_data",
          "data": {
            "image/png": "[encoded data removed]",
            "text/plain": [
              "<Figure size 432x288 with 1 Axes>"
            ]
          },
          "metadata": {
            "needs_background": "light"
          }
        }
      ],
      "source": [
        "import matplotlib.pyplot as plt \n",
        "\n",
        "def read_file(file_name):\n",
        "    \"\"\"reading .txt file as lowercase string\"\"\"\n",
        "    return open(file_name, encoding=\"utf8\").read().lower()\n",
        "\n",
        "def remove_stopwords(s):\n",
        "    # This function removes punctuation, conjuction and articles from your text.\n",
        "    punctuation_list = [\"'\", '\"', \",\", \".\", \"!\", \":\", \";\", '#', '@']\n",
        "    con_art_list=[\"the\",\"a\",\"an\",\"for\",\"and\",\"or\",\"nor\",\"but\",\"yet\",\"so\"]\n",
        "    for i in s:\n",
        "      if i in punctuation_list:\n",
        "        s=s.replace(i,'')\n",
        "      for r in con_art_list:\n",
        "        s = s.replace((' '+r+' '),' ')\n",
        "    return s\n",
        "       \n",
        "\n",
        "\n",
        "def get_sorted_freq(s):\n",
        "   #getting sorted frequency dictionary ()\n",
        "    \n",
        "    sevval={}\n",
        "    for urhan in s:\n",
        "        if urhan in sevval:\n",
        "            sevval[urhan] += 1\n",
        "        else:\n",
        "            sevval[urhan] = 1\n",
        "            \n",
        "    # The function below sorts the dict. with respect to x[1] which are the values of dict. \n",
        "    return dict(sorted(sevval.items(), key=lambda x: x[1], reverse=True)) # just change dict. name nothing else here.\n",
        "\n",
        "\n",
        "def get_n_freq(d,n):\n",
        "\n",
        "    i = 0           \n",
        "    freq = {}       \n",
        "    for x in d:\n",
        "       if n==i:\n",
        "         break\n",
        "       i = i+1 \n",
        "       freq[x] = d[x]\n",
        "       \n",
        "\n",
        "    return freq\n",
        "\n",
        "def plot_hist(file_name): \n",
        "\n",
        "    \n",
        "    return freq_10 #return the bar plot (5 points)\n",
        "\n",
        "urhan = read_file('turkish_data_protection_law.txt') # Call read_file function to read .txt file\n",
        "\n",
        "urhan = remove_stopwords(urhan) #Call remove_stopwords() function to remove punctuation, conjuction and articles\n",
        "\n",
        "urhan = urhan.split() # splitting the string into words\n",
        "\n",
        "sorted_freq = get_sorted_freq(urhan) #Call get_sorted() function to get frequencies of words in sorted dictionary\n",
        "\n",
        "freq_10 = get_n_freq(sorted_freq,10) #Call get_n_freq() function to get most 10 used frequent words\n",
        "print(list(freq_10)[:10])\n",
        "\n",
        "# now create the bar plot from freq_10 :\n",
        "plt.bar(list(freq_10)[:10],list(freq_10.values())[:10],align='center')   \n",
        "\n",
        "#plot_hist(your_file_name) # Call plot_hist() function for each .txt file\n",
        "\n",
        "#plt.savefig('turkish_data_protection_law.png',bbox_inches='tight') #saves the figure as a pdf file\n",
        "\n",
        "plt.savefig('sevvalurhan_history.png') # change the .png filename as your own (5 points for each graph)\n",
        "\n",
        "\n",
        "\n",
        "  "
      ]
    },
    {
      "cell_type": "markdown",
      "source": [
        "# Yeni Bölüm"
      ],
      "metadata": {
        "id": "DL8sYyigjzB8"
      }
    },
    {
      "cell_type": "code",
      "source": [
        ""
      ],
      "metadata": {
        "id": "PvFXwR3iAFWu"
      },
      "execution_count": null,
      "outputs": []
    }
  ]
}